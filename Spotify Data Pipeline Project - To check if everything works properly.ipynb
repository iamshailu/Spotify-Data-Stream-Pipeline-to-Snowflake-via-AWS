{
 "cells": [
  {
   "cell_type": "code",
   "execution_count": 2,
   "id": "a0f23b68",
   "metadata": {},
   "outputs": [],
   "source": [
    "!pip install spotipy"
   ]
  },
  {
   "cell_type": "code",
   "execution_count": 59,
   "id": "d03a3c49",
   "metadata": {},
   "outputs": [],
   "source": [
    "import spotipy \n",
    "from spotipy.oauth2 import SpotifyClientCredentials\n",
    "import pandas as pd"
   ]
  },
  {
   "cell_type": "code",
   "execution_count": 8,
   "id": "69e8115e",
   "metadata": {},
   "outputs": [],
   "source": [
    "client_credentials_manager = SpotifyClientCredentials(client_id = , client_secret = )"
   ]
  },
  {
   "cell_type": "code",
   "execution_count": 9,
   "id": "b6cf3b1f",
   "metadata": {},
   "outputs": [],
   "source": [
    "sp = spotipy.Spotify(client_credentials_manager = client_credentials_manager)"
   ]
  },
  {
   "cell_type": "code",
   "execution_count": 10,
   "id": "7803bbf3",
   "metadata": {},
   "outputs": [],
   "source": [
    "playlist_link = \"https://open.spotify.com/playlist/37i9dQZEVXbNG2KDcFcKOF\""
   ]
  },
  {
   "cell_type": "code",
   "execution_count": 13,
   "id": "5eeca5b0",
   "metadata": {},
   "outputs": [],
   "source": [
    "playlist_uri = playlist_link.split(\"/\")[-1]"
   ]
  },
  {
   "cell_type": "code",
   "execution_count": 42,
   "id": "f7844bd8",
   "metadata": {},
   "outputs": [],
   "source": [
    "data = sp.playlist_tracks(playlist_uri)"
   ]
  },
  {
   "cell_type": "code",
   "execution_count": 34,
   "id": "629f1955",
   "metadata": {},
   "outputs": [
    {
     "data": {
      "text/plain": [
       "'53985D8g3JcGBoULSOYYKX'"
      ]
     },
     "execution_count": 34,
     "metadata": {},
     "output_type": "execute_result"
    }
   ],
   "source": [
    "data['items'][0]['track']['album']['id']"
   ]
  },
  {
   "cell_type": "code",
   "execution_count": 26,
   "id": "dae192d5",
   "metadata": {},
   "outputs": [
    {
     "data": {
      "text/plain": [
       "'Seven (feat. Latto)'"
      ]
     },
     "execution_count": 26,
     "metadata": {},
     "output_type": "execute_result"
    }
   ],
   "source": [
    "data['items'][0]['track']['album']['name']"
   ]
  },
  {
   "cell_type": "code",
   "execution_count": 28,
   "id": "8474bc19",
   "metadata": {},
   "outputs": [
    {
     "data": {
      "text/plain": [
       "'2023-07-14'"
      ]
     },
     "execution_count": 28,
     "metadata": {},
     "output_type": "execute_result"
    }
   ],
   "source": [
    "data['items'][0]['track']['album']['release_date']"
   ]
  },
  {
   "cell_type": "code",
   "execution_count": 29,
   "id": "05e6d11b",
   "metadata": {},
   "outputs": [
    {
     "data": {
      "text/plain": [
       "3"
      ]
     },
     "execution_count": 29,
     "metadata": {},
     "output_type": "execute_result"
    }
   ],
   "source": [
    "data['items'][0]['track']['album']['total_tracks']"
   ]
  },
  {
   "cell_type": "code",
   "execution_count": 33,
   "id": "951d5382",
   "metadata": {},
   "outputs": [
    {
     "data": {
      "text/plain": [
       "'https://open.spotify.com/album/53985D8g3JcGBoULSOYYKX'"
      ]
     },
     "execution_count": 33,
     "metadata": {},
     "output_type": "execute_result"
    }
   ],
   "source": [
    "data['items'][0]['track']['album']['external_urls']['spotify']"
   ]
  },
  {
   "cell_type": "code",
   "execution_count": 37,
   "id": "98b6c62a",
   "metadata": {},
   "outputs": [],
   "source": [
    "album_list = []\n",
    "for row in data['items']:\n",
    "    album_id = row['track']['album']['id']\n",
    "    album_name = row['track']['album']['name']\n",
    "    album_release_date = row['track']['album']['release_date']\n",
    "    album_total_tracks = row['track']['album']['total_tracks']\n",
    "    album_url = row['track']['album']['external_urls']['spotify']\n",
    "    \n",
    "    album_elements = {'album_id': album_id, 'name': album_name, 'release_date': album_release_date, 'total_tracks': album_total_tracks, 'url': album_url}\n",
    "    \n",
    "    album_list.append(album_elements)"
   ]
  },
  {
   "cell_type": "code",
   "execution_count": 3,
   "id": "0c0d88aa",
   "metadata": {},
   "outputs": [],
   "source": [
    "album_list"
   ]
  },
  {
   "cell_type": "code",
   "execution_count": 4,
   "id": "d861cb9f",
   "metadata": {},
   "outputs": [],
   "source": [
    "data['items'][0]['track']['artists']"
   ]
  },
  {
   "cell_type": "code",
   "execution_count": 53,
   "id": "3a14754f",
   "metadata": {},
   "outputs": [],
   "source": [
    "artist_list = []\n",
    "for row in data['items']:\n",
    "    for key, value in row.items():\n",
    "        if key == 'track':\n",
    "            for artist in value['artists']:\n",
    "                artist_dict = {'artist_id': artist['id'], 'artist_name':artist['name'], 'external_url': artist['href']}\n",
    "                artist_list.append(artist_dict)                                  "
   ]
  },
  {
   "cell_type": "code",
   "execution_count": 5,
   "id": "7591c3a4",
   "metadata": {},
   "outputs": [],
   "source": [
    "artist_list"
   ]
  },
  {
   "cell_type": "code",
   "execution_count": 70,
   "id": "8567ed74",
   "metadata": {},
   "outputs": [],
   "source": [
    "song_list = []\n",
    "for row in data['items']:\n",
    "    song_id = row['track']['id']\n",
    "    song_name = row['track']['name']\n",
    "    song_duration = row['track']['duration_ms']\n",
    "    song_url = row['track']['external_urls']['spotify']\n",
    "    song_popularity = row['track']['popularity']\n",
    "    song_added = row['added_at']\n",
    "    album_id = row['track']['album']['id']\n",
    "    artist_id = row['track']['album']['artists'][0]['id']\n",
    "    song_element = {'song_id': song_id, 'song_name': song_name, 'duration_ms': song_duration, 'url': song_url, 'popularity': song_popularity, 'song_added': song_added, 'album_id': album_id, 'artist_id': artist_id}\n",
    "    \n",
    "    song_list.append(song_element)"
   ]
  },
  {
   "cell_type": "code",
   "execution_count": 6,
   "id": "15112288",
   "metadata": {},
   "outputs": [],
   "source": [
    "song_list"
   ]
  },
  {
   "cell_type": "code",
   "execution_count": 60,
   "id": "e143a16c",
   "metadata": {},
   "outputs": [],
   "source": [
    "album_df = pd.DataFrame.from_dict(album_list)"
   ]
  },
  {
   "cell_type": "code",
   "execution_count": 7,
   "id": "4c2966e2",
   "metadata": {},
   "outputs": [],
   "source": [
    "album_df.head()"
   ]
  },
  {
   "cell_type": "code",
   "execution_count": 8,
   "id": "60b7e4a9",
   "metadata": {},
   "outputs": [],
   "source": [
    "album_df.info()"
   ]
  },
  {
   "cell_type": "code",
   "execution_count": 64,
   "id": "b6a481fa",
   "metadata": {},
   "outputs": [],
   "source": [
    "album_df = album_df.drop_duplicates(subset= ['album_id'])"
   ]
  },
  {
   "cell_type": "code",
   "execution_count": 65,
   "id": "65640915",
   "metadata": {},
   "outputs": [],
   "source": [
    "artist_df = pd.DataFrame.from_dict(artist_list)"
   ]
  },
  {
   "cell_type": "code",
   "execution_count": 9,
   "id": "2c841711",
   "metadata": {},
   "outputs": [],
   "source": [
    "artist_df"
   ]
  },
  {
   "cell_type": "code",
   "execution_count": 67,
   "id": "aa169426",
   "metadata": {},
   "outputs": [],
   "source": [
    "artist_df = artist_df.drop_duplicates(subset= ['artist_id'])"
   ]
  },
  {
   "cell_type": "code",
   "execution_count": 72,
   "id": "a90823e4",
   "metadata": {},
   "outputs": [],
   "source": [
    "song_df = pd.DataFrame.from_dict(song_list)"
   ]
  },
  {
   "cell_type": "code",
   "execution_count": 10,
   "id": "d04ba1ec",
   "metadata": {},
   "outputs": [],
   "source": [
    "song_df"
   ]
  },
  {
   "cell_type": "code",
   "execution_count": 74,
   "id": "e71d042d",
   "metadata": {},
   "outputs": [],
   "source": [
    "song_df = song_df.drop_duplicates(subset= ['song_id'])"
   ]
  },
  {
   "cell_type": "code",
   "execution_count": 11,
   "id": "a9d108bc",
   "metadata": {},
   "outputs": [],
   "source": [
    "song_df.head()"
   ]
  },
  {
   "cell_type": "code",
   "execution_count": 13,
   "id": "c0323107",
   "metadata": {},
   "outputs": [],
   "source": [
    "artist_df.head()"
   ]
  },
  {
   "cell_type": "code",
   "execution_count": 14,
   "id": "b9e09037",
   "metadata": {},
   "outputs": [],
   "source": [
    "album_df.head()"
   ]
  },
  {
   "cell_type": "code",
   "execution_count": 80,
   "id": "198d92fd",
   "metadata": {},
   "outputs": [],
   "source": [
    "album_df['release_date'] = pd.to_datetime(album_df['release_date'])"
   ]
  },
  {
   "cell_type": "code",
   "execution_count": 15,
   "id": "84f10cd3",
   "metadata": {},
   "outputs": [],
   "source": [
    "album_df.info()"
   ]
  },
  {
   "cell_type": "code",
   "execution_count": 83,
   "id": "b1198e99",
   "metadata": {},
   "outputs": [],
   "source": [
    "song_df['song_added'] = pd.to_datetime(song_df['song_added'])"
   ]
  },
  {
   "cell_type": "code",
   "execution_count": 16,
   "id": "2f72c6e4",
   "metadata": {},
   "outputs": [],
   "source": [
    "song_df.info()"
   ]
  },
  {
   "cell_type": "code",
   "execution_count": null,
   "id": "73da39ee",
   "metadata": {},
   "outputs": [],
   "source": []
  }
 ],
 "metadata": {
  "kernelspec": {
   "display_name": "Python 3 (ipykernel)",
   "language": "python",
   "name": "python3"
  },
  "language_info": {
   "codemirror_mode": {
    "name": "ipython",
    "version": 3
   },
   "file_extension": ".py",
   "mimetype": "text/x-python",
   "name": "python",
   "nbconvert_exporter": "python",
   "pygments_lexer": "ipython3",
   "version": "3.8.17"
  }
 },
 "nbformat": 4,
 "nbformat_minor": 5
}
